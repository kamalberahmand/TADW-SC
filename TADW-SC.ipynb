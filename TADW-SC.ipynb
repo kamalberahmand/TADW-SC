{
 "cells": [
  {
   "cell_type": "code",
   "execution_count": null,
   "metadata": {},
   "outputs": [],
   "source": [
    "import networkx as nx\n",
    "import numpy as np\n",
    "import matplotlib.pyplot as plt\n",
    "import pandas as pd\n",
    "from tqdm import tqdm"
   ]
  },
  {
   "cell_type": "code",
   "execution_count": null,
   "metadata": {},
   "outputs": [],
   "source": [
    "embs = pd.read_csv('database/collins/collins_tadw.csv').set_index('id')\n",
    "emb_np = embs.to_numpy()"
   ]
  },
  {
   "cell_type": "code",
   "execution_count": null,
   "metadata": {},
   "outputs": [],
   "source": [
    "network = nx.Graph()\n",
    "with open('database/collins/collins.txt') as f:\n",
    "  edges = f.readlines()\n",
    "for line in edges:\n",
    "  x,y = line.split()\n",
    "  network.add_edge(x,y)\n",
    "\n",
    "\n",
    "pro_to_id = {}\n",
    "i = 0\n",
    "for n in network.nodes:\n",
    "    pro_to_id[n] = i\n",
    "    i= i+1\n",
    "    \n",
    "pro_to_id['YDL007W']"
   ]
  },
  {
   "cell_type": "code",
   "execution_count": null,
   "metadata": {},
   "outputs": [],
   "source": [
    "deg_sum = 0\n",
    "for n in tqdm(network.nodes):\n",
    "    deg_sum += network.degree[n] \n",
    "avg = deg_sum/len(network.nodes)\n",
    "\n",
    "hub_count = 0\n",
    "for n in tqdm(network.nodes):\n",
    "    if network.degree[n] > avg:\n",
    "        hub_count += 1\n",
    "hub_count\n",
    "        "
   ]
  },
  {
   "cell_type": "code",
   "execution_count": null,
   "metadata": {},
   "outputs": [],
   "source": [
    "from math import*\n",
    " \n",
    "def square_rooted(x):\n",
    " \n",
    "   return round(sqrt(sum([a*a for a in x])),3)\n",
    " \n",
    "def cosine_similarity(x,y):\n",
    " \n",
    " numerator = sum(a*b for a,b in zip(x,y))\n",
    " denominator = square_rooted(x)*square_rooted(y)\n",
    " return round(numerator/float(denominator),3)"
   ]
  },
  {
   "cell_type": "code",
   "execution_count": null,
   "metadata": {},
   "outputs": [],
   "source": [
    "W = np.zeros((len(network.nodes),len(network.nodes)))\n",
    "nodes = list(network.nodes)\n",
    "for e in tqdm(network.edges):\n",
    "    n1 = e[0]\n",
    "    i = nodes.index(n1)\n",
    "    n2 = e[1]\n",
    "    j = nodes.index(n2)\n",
    "    W[i][j] = cosine_similarity(emb_np[i],emb_np[j])\n",
    "    network[n1][n2]['weight'] = cosine_similarity(emb_np[i],emb_np[j])\n",
    "#W"
   ]
  },
  {
   "cell_type": "code",
   "execution_count": null,
   "metadata": {},
   "outputs": [],
   "source": [
    "# degree matrix\n",
    "import math \n",
    "#W = sim_matrix\n",
    "for i in range(W.shape[0]):\n",
    "    W[i][i] = 0\n",
    "\n",
    "D = np.diag(np.sum(np.array(W), axis=1))\n",
    "L = D-W\n",
    "L_p = np.array(nx.normalized_laplacian_matrix(network, nodelist=None, weight='weight').todense())\n"
   ]
  },
  {
   "cell_type": "code",
   "execution_count": null,
   "metadata": {},
   "outputs": [],
   "source": []
  },
  {
   "cell_type": "code",
   "execution_count": null,
   "metadata": {},
   "outputs": [],
   "source": [
    "#file1=open(\"Form_CYC20083.txt\")\n",
    "#print(file1)\n",
    "reference_complex=[]\n",
    "#reference_num=len(file1.readlines())\n",
    "with open('database/Form_CYC20083.txt') as f:\n",
    "    ji = f.readlines()\n",
    "    reference_num=len(f.readlines())\n",
    "    for j in ji:\n",
    "        j = j.rstrip()\n",
    "        j = j.rstrip('\\n')\n",
    "        complex_list = j.split('\\t')\n",
    "        reference_complex.append(complex_list)\n",
    "#file1.close()\n",
    "reference_complex[-1]\n",
    "#reference_num"
   ]
  },
  {
   "cell_type": "code",
   "execution_count": null,
   "metadata": {},
   "outputs": [],
   "source": [
    "actual_complex =[]\n",
    "for com in reference_complex:\n",
    "    x = []  \n",
    "    for p in com:\n",
    "        if p in pro_to_id.keys():\n",
    "            x.append(pro_to_id[p])\n",
    "    actual_complex.append(x)\n",
    "actual_complex"
   ]
  },
  {
   "cell_type": "code",
   "execution_count": null,
   "metadata": {},
   "outputs": [],
   "source": [
    "index = []\n",
    "reference_complex=[]\n",
    "for i in range(len(actual_complex)):\n",
    "    if len(actual_complex[i]) > 0:\n",
    "        index.append(i)\n",
    "        reference_complex.append(actual_complex[i])\n",
    "print(len(reference_complex))\n",
    "print(len(index))\n",
    "\n",
    "\n"
   ]
  },
  {
   "cell_type": "code",
   "execution_count": null,
   "metadata": {},
   "outputs": [],
   "source": [
    "def positive_predictive_value(reference, predicted):\n",
    "    num, den = 0., 0.\n",
    "    for cluster in predicted:\n",
    "        isects = [len(set(cluster).intersection(set(compl))) for compl in reference]\n",
    "        isects.append(0.)\n",
    "        num += max(isects)\n",
    "        den += sum(isects)\n",
    "    if den == 0.:\n",
    "        return 0.\n",
    "    return num / den\n",
    "#positive_predictive_value(actual_clusters, predicted_clusters)\n",
    "def clusteringwise_sensitivity(reference, predicted):\n",
    "    num, den = 0., 0.\n",
    "    for complx in reference:\n",
    "        den += len(complx)\n",
    "        num += max(len(set(complx).intersection(set(cluster))) for cluster in predicted)\n",
    "    if den == 0.:\n",
    "        return 0.\n",
    "    return num / den\n",
    "\n",
    "def accuracy(reference, predicted):\n",
    "    return (clusteringwise_sensitivity(reference, predicted) * \\\n",
    "            positive_predictive_value(reference, predicted)) ** 0.5\n",
    "#print(accuracy(actual_complex, predicted_complex))\n",
    "#print(clusteringwise_sensitivity(actual_clusters, predicted_clusters))"
   ]
  },
  {
   "cell_type": "code",
   "execution_count": null,
   "metadata": {},
   "outputs": [],
   "source": [
    "k =100\n",
    "e, v = np.linalg.eig(L_p)\n",
    "idx = np.argsort(e)[:k]\n",
    "eigen_vectors = np.zeros((len(network.nodes),k))\n",
    "for i in range(len(idx)):\n",
    "    eigen_vectors[:,i] = v[:,idx[i]]\n",
    "from sklearn.cluster import KMeans\n",
    "kmeans = KMeans(n_clusters=31, random_state=0).fit(eigen_vectors)\n",
    "labels = kmeans.labels_\n",
    "    \n",
    "predicted_complex = []\n",
    "for i in range(k):\n",
    "    predicted_complex.append([])\n",
    "for i in range(len(labels)):\n",
    "    predicted_complex[labels[i]].append(i)\n",
    "        \n",
    "number=0\n",
    "c_number=0\n",
    "row=1\n",
    "for i in predicted_complex:\n",
    "    overlapscore=0.0\n",
    "    for j in reference_complex:\n",
    "        set1 = set(i)\n",
    "        set2 = set(j)\n",
    "        overlap = set1 & set2\n",
    "        if float((len(set1) * len(set2))) != 0:\n",
    "            score = float((pow(len(overlap), 2))) / float((len(set1) * len(set2)))\n",
    "        if (score > overlapscore):\n",
    "            overlapscore = score\n",
    "    if (overlapscore > 0.2):\n",
    "            number = number + 1\n",
    "    row=row+1\n",
    "\n",
    "\n",
    "for i in tqdm(reference_complex):\n",
    "    overlapscore=0.0\n",
    "    for j in predicted_complex:\n",
    "        set1 = set(i)\n",
    "        set2 = set(j)\n",
    "        overlap = set1 & set2\n",
    "        if float((len(set1) * len(set2))) != 0:\n",
    "            score = float((pow(len(overlap), 2))) / float((len(set1) * len(set2)))\n",
    "        if(score > overlapscore):\n",
    "            overlapscore = score\n",
    "    if(overlapscore > 0.2):\n",
    "        c_number=c_number+1\n",
    "precision=float(number/len(predicted_complx))\n",
    "print('precision: ', precision)\n",
    "recall=float(c_number/float(len(reference_complex)))\n",
    "print('recall: ', recall)\n",
    "F1=float((2*precision*recall)/(precision+recall))\n",
    "print('F1: ',F1)\n",
    "print('acc: ',accuracy(actual_complex, predicted_complex))"
   ]
  },
  {
   "cell_type": "code",
   "execution_count": null,
   "metadata": {},
   "outputs": [],
   "source": []
  }
 ],
 "metadata": {
  "kernelspec": {
   "display_name": "Python 3",
   "language": "python",
   "name": "python3"
  },
  "language_info": {
   "codemirror_mode": {
    "name": "ipython",
    "version": 3
   },
   "file_extension": ".py",
   "mimetype": "text/x-python",
   "name": "python",
   "nbconvert_exporter": "python",
   "pygments_lexer": "ipython3",
   "version": "3.6.4"
  }
 },
 "nbformat": 4,
 "nbformat_minor": 2
}
